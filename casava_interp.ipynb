{
  "nbformat": 4,
  "nbformat_minor": 0,
  "metadata": {
    "colab": {
      "name": "casava-interp.ipynb",
      "provenance": [],
      "include_colab_link": true
    },
    "kernelspec": {
      "name": "python3",
      "display_name": "Python 3"
    },
    "widgets": {
      "application/vnd.jupyter.widget-state+json": {
        "b61cb808f6924ebfbbe1934837767e55": {
          "model_module": "@jupyter-widgets/controls",
          "model_name": "HBoxModel",
          "state": {
            "_view_name": "HBoxView",
            "_dom_classes": [],
            "_model_name": "HBoxModel",
            "_view_module": "@jupyter-widgets/controls",
            "_model_module_version": "1.5.0",
            "_view_count": null,
            "_view_module_version": "1.5.0",
            "box_style": "",
            "layout": "IPY_MODEL_0b0cfae2c7a546f09b28c1df1a960093",
            "_model_module": "@jupyter-widgets/controls",
            "children": [
              "IPY_MODEL_d2ea0ea07b1b4f4b9aa2150ae4464e56",
              "IPY_MODEL_0b909a16720f44478ec65ffb3b6dd086"
            ]
          }
        },
        "0b0cfae2c7a546f09b28c1df1a960093": {
          "model_module": "@jupyter-widgets/base",
          "model_name": "LayoutModel",
          "state": {
            "_view_name": "LayoutView",
            "grid_template_rows": null,
            "right": null,
            "justify_content": null,
            "_view_module": "@jupyter-widgets/base",
            "overflow": null,
            "_model_module_version": "1.2.0",
            "_view_count": null,
            "flex_flow": null,
            "width": null,
            "min_width": null,
            "border": null,
            "align_items": null,
            "bottom": null,
            "_model_module": "@jupyter-widgets/base",
            "top": null,
            "grid_column": null,
            "overflow_y": null,
            "overflow_x": null,
            "grid_auto_flow": null,
            "grid_area": null,
            "grid_template_columns": null,
            "flex": null,
            "_model_name": "LayoutModel",
            "justify_items": null,
            "grid_row": null,
            "max_height": null,
            "align_content": null,
            "visibility": null,
            "align_self": null,
            "height": null,
            "min_height": null,
            "padding": null,
            "grid_auto_rows": null,
            "grid_gap": null,
            "max_width": null,
            "order": null,
            "_view_module_version": "1.2.0",
            "grid_template_areas": null,
            "object_position": null,
            "object_fit": null,
            "grid_auto_columns": null,
            "margin": null,
            "display": null,
            "left": null
          }
        },
        "d2ea0ea07b1b4f4b9aa2150ae4464e56": {
          "model_module": "@jupyter-widgets/controls",
          "model_name": "FloatProgressModel",
          "state": {
            "_view_name": "ProgressView",
            "style": "IPY_MODEL_2122ae49ab1848f3a85149bac1d4ec55",
            "_dom_classes": [],
            "description": "100%",
            "_model_name": "FloatProgressModel",
            "bar_style": "success",
            "max": 46827520,
            "_view_module": "@jupyter-widgets/controls",
            "_model_module_version": "1.5.0",
            "value": 46827520,
            "_view_count": null,
            "_view_module_version": "1.5.0",
            "orientation": "horizontal",
            "min": 0,
            "description_tooltip": null,
            "_model_module": "@jupyter-widgets/controls",
            "layout": "IPY_MODEL_8d788ca6023d431f920460d7fcf9ebc7"
          }
        },
        "0b909a16720f44478ec65ffb3b6dd086": {
          "model_module": "@jupyter-widgets/controls",
          "model_name": "HTMLModel",
          "state": {
            "_view_name": "HTMLView",
            "style": "IPY_MODEL_c4f0203d1a6147e498e7130766a112fe",
            "_dom_classes": [],
            "description": "",
            "_model_name": "HTMLModel",
            "placeholder": "​",
            "_view_module": "@jupyter-widgets/controls",
            "_model_module_version": "1.5.0",
            "value": " 44.7M/44.7M [03:08&lt;00:00, 249kB/s]",
            "_view_count": null,
            "_view_module_version": "1.5.0",
            "description_tooltip": null,
            "_model_module": "@jupyter-widgets/controls",
            "layout": "IPY_MODEL_02f2f86494ed4f209c709c433fe471dd"
          }
        },
        "2122ae49ab1848f3a85149bac1d4ec55": {
          "model_module": "@jupyter-widgets/controls",
          "model_name": "ProgressStyleModel",
          "state": {
            "_view_name": "StyleView",
            "_model_name": "ProgressStyleModel",
            "description_width": "initial",
            "_view_module": "@jupyter-widgets/base",
            "_model_module_version": "1.5.0",
            "_view_count": null,
            "_view_module_version": "1.2.0",
            "bar_color": null,
            "_model_module": "@jupyter-widgets/controls"
          }
        },
        "8d788ca6023d431f920460d7fcf9ebc7": {
          "model_module": "@jupyter-widgets/base",
          "model_name": "LayoutModel",
          "state": {
            "_view_name": "LayoutView",
            "grid_template_rows": null,
            "right": null,
            "justify_content": null,
            "_view_module": "@jupyter-widgets/base",
            "overflow": null,
            "_model_module_version": "1.2.0",
            "_view_count": null,
            "flex_flow": null,
            "width": null,
            "min_width": null,
            "border": null,
            "align_items": null,
            "bottom": null,
            "_model_module": "@jupyter-widgets/base",
            "top": null,
            "grid_column": null,
            "overflow_y": null,
            "overflow_x": null,
            "grid_auto_flow": null,
            "grid_area": null,
            "grid_template_columns": null,
            "flex": null,
            "_model_name": "LayoutModel",
            "justify_items": null,
            "grid_row": null,
            "max_height": null,
            "align_content": null,
            "visibility": null,
            "align_self": null,
            "height": null,
            "min_height": null,
            "padding": null,
            "grid_auto_rows": null,
            "grid_gap": null,
            "max_width": null,
            "order": null,
            "_view_module_version": "1.2.0",
            "grid_template_areas": null,
            "object_position": null,
            "object_fit": null,
            "grid_auto_columns": null,
            "margin": null,
            "display": null,
            "left": null
          }
        },
        "c4f0203d1a6147e498e7130766a112fe": {
          "model_module": "@jupyter-widgets/controls",
          "model_name": "DescriptionStyleModel",
          "state": {
            "_view_name": "StyleView",
            "_model_name": "DescriptionStyleModel",
            "description_width": "",
            "_view_module": "@jupyter-widgets/base",
            "_model_module_version": "1.5.0",
            "_view_count": null,
            "_view_module_version": "1.2.0",
            "_model_module": "@jupyter-widgets/controls"
          }
        },
        "02f2f86494ed4f209c709c433fe471dd": {
          "model_module": "@jupyter-widgets/base",
          "model_name": "LayoutModel",
          "state": {
            "_view_name": "LayoutView",
            "grid_template_rows": null,
            "right": null,
            "justify_content": null,
            "_view_module": "@jupyter-widgets/base",
            "overflow": null,
            "_model_module_version": "1.2.0",
            "_view_count": null,
            "flex_flow": null,
            "width": null,
            "min_width": null,
            "border": null,
            "align_items": null,
            "bottom": null,
            "_model_module": "@jupyter-widgets/base",
            "top": null,
            "grid_column": null,
            "overflow_y": null,
            "overflow_x": null,
            "grid_auto_flow": null,
            "grid_area": null,
            "grid_template_columns": null,
            "flex": null,
            "_model_name": "LayoutModel",
            "justify_items": null,
            "grid_row": null,
            "max_height": null,
            "align_content": null,
            "visibility": null,
            "align_self": null,
            "height": null,
            "min_height": null,
            "padding": null,
            "grid_auto_rows": null,
            "grid_gap": null,
            "max_width": null,
            "order": null,
            "_view_module_version": "1.2.0",
            "grid_template_areas": null,
            "object_position": null,
            "object_fit": null,
            "grid_auto_columns": null,
            "margin": null,
            "display": null,
            "left": null
          }
        }
      }
    }
  },
  "cells": [
    {
      "cell_type": "markdown",
      "metadata": {
        "id": "view-in-github",
        "colab_type": "text"
      },
      "source": [
        "<a href=\"https://colab.research.google.com/github/hagusta/colab/blob/master/casava_interp.ipynb\" target=\"_parent\"><img src=\"https://colab.research.google.com/assets/colab-badge.svg\" alt=\"Open In Colab\"/></a>"
      ]
    },
    {
      "cell_type": "code",
      "metadata": {
        "colab": {
          "base_uri": "https://localhost:8080/"
        },
        "id": "Z7Aa7O9fGVAx",
        "outputId": "fb042709-1737-431f-cb31-86f8262d2f39"
      },
      "source": [
        "from google.colab import drive\r\n",
        "import os\r\n",
        "drive.mount('/content/gdrive', force_remount=True)\r\n",
        "kaggle_json='gdrive/MyDrive/kaggle.json'\r\n",
        "model_dir='gdrive/MyDrive/casava'\r\n",
        "working_dir='/dev/shm'"
      ],
      "execution_count": 1,
      "outputs": [
        {
          "output_type": "stream",
          "text": [
            "Mounted at /content/gdrive\n"
          ],
          "name": "stdout"
        }
      ]
    },
    {
      "cell_type": "code",
      "metadata": {
        "colab": {
          "base_uri": "https://localhost:8080/"
        },
        "id": "u8AtiL2NHYst",
        "outputId": "00cbf053-fdaa-4d5a-a467-118b47d0adb3"
      },
      "source": [
        "!pip uninstall -y kaggle\r\n",
        "!pip install -Uqq kaggle\r\n",
        "\r\n",
        "#import fastai\r\n",
        "#import torch\r\n",
        "#import fastbook"
      ],
      "execution_count": 2,
      "outputs": [
        {
          "output_type": "stream",
          "text": [
            "Uninstalling kaggle-1.5.10:\n",
            "  Successfully uninstalled kaggle-1.5.10\n",
            "\u001b[K     |████████████████████████████████| 61kB 4.3MB/s \n",
            "\u001b[?25h  Building wheel for kaggle (setup.py) ... \u001b[?25l\u001b[?25hdone\n"
          ],
          "name": "stdout"
        }
      ]
    },
    {
      "cell_type": "code",
      "metadata": {
        "colab": {
          "base_uri": "https://localhost:8080/"
        },
        "id": "xcJnqXkyJELV",
        "outputId": "cd342765-fdeb-4df4-92cd-58ec9b98c2db"
      },
      "source": [
        "!pip uninstall -y fastai\r\n",
        "!pip install -Uqq fastai\r\n",
        "!pip install -Uqq fastbook\r\n"
      ],
      "execution_count": 3,
      "outputs": [
        {
          "output_type": "stream",
          "text": [
            "Uninstalling fastai-1.0.61:\n",
            "  Successfully uninstalled fastai-1.0.61\n",
            "\u001b[K     |████████████████████████████████| 194kB 8.5MB/s \n",
            "\u001b[K     |████████████████████████████████| 61kB 7.1MB/s \n",
            "\u001b[K     |████████████████████████████████| 727kB 7.7MB/s \n",
            "\u001b[K     |████████████████████████████████| 51kB 6.0MB/s \n",
            "\u001b[K     |████████████████████████████████| 1.2MB 13.2MB/s \n",
            "\u001b[K     |████████████████████████████████| 51kB 6.7MB/s \n",
            "\u001b[?25h"
          ],
          "name": "stdout"
        }
      ]
    },
    {
      "cell_type": "code",
      "metadata": {
        "id": "rT-Le6iLG7f7"
      },
      "source": [
        "import os  \r\n",
        "from pathlib import Path \r\n",
        "import pandas as pd\r\n",
        "import json\r\n",
        "import shutil\r\n",
        "import fastai\r\n",
        "import torch\r\n",
        "import fastbook"
      ],
      "execution_count": 4,
      "outputs": []
    },
    {
      "cell_type": "code",
      "metadata": {
        "id": "5AbZcVNmG_8N"
      },
      "source": [
        "!tar xzf gdrive/MyDrive/casava_data/casava.tar.gz --directory /dev/shm\r\n",
        "df=pd.read_csv('/dev/shm/casava/train.csv')\r\n",
        "#f=open('/dev/shm/casava/label_num_to_disease_map.json')\r\n",
        "#label_name=dict(json.load(f))\r\n",
        "label_name_dict=dict({'0':'CBB',\r\n",
        "                 '1':'CBSD',\r\n",
        "                 '2':'CGM',\r\n",
        "                 '3':'CMD',\r\n",
        "                 '4':'Healty'})\r\n",
        "imgs=df.image_id.to_list()\r\n",
        "lbl=df.label.to_list()\r\n",
        "labels=[ label_name_dict[str(i)] for i in lbl]\r\n",
        "label_dict=dict(zip(imgs,labels))"
      ],
      "execution_count": 5,
      "outputs": []
    },
    {
      "cell_type": "code",
      "metadata": {
        "id": "epOQZXQFHRVw"
      },
      "source": [
        "def get_label(o): return label_dict[o.name]"
      ],
      "execution_count": 6,
      "outputs": []
    },
    {
      "cell_type": "code",
      "metadata": {
        "id": "Q2DlkEjtHNtl"
      },
      "source": [
        "from fastai.vision.all import *"
      ],
      "execution_count": 7,
      "outputs": []
    },
    {
      "cell_type": "code",
      "metadata": {
        "id": "V-ma2OWpHTe5"
      },
      "source": [
        "casava=DataBlock(\r\n",
        "    blocks=(ImageBlock, CategoryBlock), \r\n",
        "    get_items=get_image_files, \r\n",
        "    splitter=RandomSplitter(valid_pct=0.2, seed=42),\r\n",
        "    #get_y=lambda p: label_dict[p.name],\r\n",
        "    #get_y=parent_label,\r\n",
        "    get_y=get_label,\r\n",
        "    #item_tfms=Resize(512,method=ResizeMethod.Squish),\r\n",
        "    item_tfms=Resize(512),\r\n",
        "    #batch_tfms=[*aug_transforms(size=224,mult=2),Normalize.from_stats(*imagenet_stats)]\r\n",
        "    #batch_tfms=[Normalize.from_stats(*imagenet_stats)]\r\n",
        "    batch_tfms=aug_transforms(size=224,mult=2)\r\n",
        "    )"
      ],
      "execution_count": 8,
      "outputs": []
    },
    {
      "cell_type": "code",
      "metadata": {
        "id": "m5Qy4ut4Iotk"
      },
      "source": [
        "path=Path('/dev/shm/casava/train_images')\r\n",
        "dls = casava.dataloaders(path,bs=16)"
      ],
      "execution_count": 9,
      "outputs": []
    },
    {
      "cell_type": "code",
      "metadata": {
        "id": "Ee2eXdopGdLC"
      },
      "source": [
        "mdls=[\"casava_resnet18\",\"casava_resnet18.1\"]"
      ],
      "execution_count": 10,
      "outputs": []
    },
    {
      "cell_type": "code",
      "metadata": {
        "colab": {
          "base_uri": "https://localhost:8080/",
          "height": 84,
          "referenced_widgets": [
            "b61cb808f6924ebfbbe1934837767e55",
            "0b0cfae2c7a546f09b28c1df1a960093",
            "d2ea0ea07b1b4f4b9aa2150ae4464e56",
            "0b909a16720f44478ec65ffb3b6dd086",
            "2122ae49ab1848f3a85149bac1d4ec55",
            "8d788ca6023d431f920460d7fcf9ebc7",
            "c4f0203d1a6147e498e7130766a112fe",
            "02f2f86494ed4f209c709c433fe471dd"
          ]
        },
        "id": "mt-LyAj_GwtM",
        "outputId": "ff37457f-448c-4c95-ade2-872c8847328a"
      },
      "source": [
        "learn = cnn_learner(dls,\r\n",
        "                    models.resnet18,\r\n",
        "                    metrics=error_rate)"
      ],
      "execution_count": 11,
      "outputs": [
        {
          "output_type": "stream",
          "text": [
            "Downloading: \"https://download.pytorch.org/models/resnet18-5c106cde.pth\" to /root/.cache/torch/hub/checkpoints/resnet18-5c106cde.pth\n"
          ],
          "name": "stderr"
        },
        {
          "output_type": "display_data",
          "data": {
            "application/vnd.jupyter.widget-view+json": {
              "model_id": "b61cb808f6924ebfbbe1934837767e55",
              "version_minor": 0,
              "version_major": 2
            },
            "text/plain": [
              "HBox(children=(FloatProgress(value=0.0, max=46827520.0), HTML(value='')))"
            ]
          },
          "metadata": {
            "tags": []
          }
        },
        {
          "output_type": "stream",
          "text": [
            "\n"
          ],
          "name": "stdout"
        }
      ]
    },
    {
      "cell_type": "code",
      "metadata": {
        "id": "YPTbAJnQS-ec"
      },
      "source": [
        "import pickle"
      ],
      "execution_count": 12,
      "outputs": []
    },
    {
      "cell_type": "code",
      "metadata": {
        "colab": {
          "base_uri": "https://localhost:8080/",
          "height": 475
        },
        "id": "UGbX2_KxJZJj",
        "outputId": "be71246d-4390-4024-aeb2-5991cbe18cbb"
      },
      "source": [
        "interp=None\r\n",
        "mdl_path=Path('/content/gdrive/MyDrive/casava/').absolute()\r\n",
        "for m in mdls:\r\n",
        "  learn=learn.load(mdl_path/m)\r\n",
        "  if isinstance(interp, ClassificationInterpretation):\r\n",
        "    del interp\r\n",
        "  interp = ClassificationInterpretation.from_learner(learn)\r\n",
        "  print(m,interp.print_classification_report())\r\n",
        "  top50 = top=interp.top_losses(100)\r\n",
        "  #top50=[]\r\n",
        "  fname=str(m+'.top40.pkl')\r\n",
        "  f=open(mdl_path/fname,mode='bw')\r\n",
        "  pickle.dump(top50,f)"
      ],
      "execution_count": 13,
      "outputs": [
        {
          "output_type": "display_data",
          "data": {
            "text/html": [
              ""
            ],
            "text/plain": [
              "<IPython.core.display.HTML object>"
            ]
          },
          "metadata": {
            "tags": []
          }
        },
        {
          "output_type": "stream",
          "text": [
            "              precision    recall  f1-score   support\n",
            "\n",
            "         CBB       0.61      0.28      0.38       218\n",
            "        CBSD       0.49      0.46      0.47       454\n",
            "         CGM       0.39      0.43      0.41       497\n",
            "         CMD       0.93      0.75      0.83      2586\n",
            "      Healty       0.39      0.83      0.53       524\n",
            "\n",
            "    accuracy                           0.67      4279\n",
            "   macro avg       0.56      0.55      0.52      4279\n",
            "weighted avg       0.74      0.67      0.68      4279\n",
            "\n",
            "casava_resnet18 None\n"
          ],
          "name": "stdout"
        },
        {
          "output_type": "display_data",
          "data": {
            "text/html": [
              ""
            ],
            "text/plain": [
              "<IPython.core.display.HTML object>"
            ]
          },
          "metadata": {
            "tags": []
          }
        },
        {
          "output_type": "stream",
          "text": [
            "              precision    recall  f1-score   support\n",
            "\n",
            "         CBB       0.65      0.21      0.31       218\n",
            "        CBSD       0.51      0.33      0.40       454\n",
            "         CGM       1.00      0.01      0.02       497\n",
            "         CMD       0.87      0.87      0.87      2586\n",
            "      Healty       0.34      0.86      0.49       524\n",
            "\n",
            "    accuracy                           0.68      4279\n",
            "   macro avg       0.67      0.45      0.42      4279\n",
            "weighted avg       0.77      0.68      0.65      4279\n",
            "\n",
            "casava_resnet18.1 None\n"
          ],
          "name": "stdout"
        }
      ]
    },
    {
      "cell_type": "code",
      "metadata": {
        "colab": {
          "base_uri": "https://localhost:8080/",
          "height": 238
        },
        "id": "ep-3O5srKUWg",
        "outputId": "3650640d-bf62-4dea-dae4-7763817d85ae"
      },
      "source": [
        "interp=None\r\n",
        "mdls=[\"casava_resnet18.1\"]\r\n",
        "mdl_path=Path('/content/gdrive/MyDrive/casava/').absolute()\r\n",
        "for m in mdls:\r\n",
        "  learn=learn.load(mdl_path/m)\r\n",
        "  if isinstance(interp, ClassificationInterpretation):\r\n",
        "    del interp\r\n",
        "  interp = ClassificationInterpretation.from_learner(learn)\r\n",
        "  print(m,interp.print_classification_report())\r\n",
        "  top50 = top=interp.top_losses(100)\r\n",
        "  #top50=[]\r\n",
        "  fname=str(m+'.top40.pkl')\r\n",
        "  f=open(mdl_path/fname,mode='bw')\r\n",
        "  pickle.dump(top50,f)"
      ],
      "execution_count": null,
      "outputs": [
        {
          "output_type": "display_data",
          "data": {
            "text/html": [
              ""
            ],
            "text/plain": [
              "<IPython.core.display.HTML object>"
            ]
          },
          "metadata": {
            "tags": []
          }
        },
        {
          "output_type": "stream",
          "text": [
            "              precision    recall  f1-score   support\n",
            "\n",
            "         CBB       0.64      0.68      0.66       218\n",
            "        CBSD       0.84      0.76      0.80       454\n",
            "         CGM       0.94      0.36      0.52       497\n",
            "         CMD       0.89      0.99      0.94      2586\n",
            "      Healty       0.66      0.73      0.69       524\n",
            "\n",
            "    accuracy                           0.84      4279\n",
            "   macro avg       0.79      0.70      0.72      4279\n",
            "weighted avg       0.85      0.84      0.83      4279\n",
            "\n",
            "casava_resnet18.1 None\n"
          ],
          "name": "stdout"
        }
      ]
    },
    {
      "cell_type": "code",
      "metadata": {
        "id": "KgPkOJYRcNXH"
      },
      "source": [
        "top50s=[]\r\n",
        "for m in mdls:\r\n",
        "  fname=str(m+'.top40.pkl')\r\n",
        "  f=open(mdl_path/fname,'br')\r\n",
        "  top50=pickle.load(f)\r\n",
        "  top50s=top50s+[dls.valid_ds.items[f] for f in sorted(top50[1].tolist())]\r\n",
        "  #top50s.append(_top50)"
      ],
      "execution_count": null,
      "outputs": []
    },
    {
      "cell_type": "code",
      "metadata": {
        "id": "Jv6dedDPdWe4"
      },
      "source": [
        "toplossimg=[]\r\n",
        "_=[toplossimg.append(f) for f in sorted(top50s) if f not in toplossimg]"
      ],
      "execution_count": null,
      "outputs": []
    },
    {
      "cell_type": "code",
      "metadata": {
        "colab": {
          "base_uri": "https://localhost:8080/"
        },
        "id": "rw9LzBs5dkSb",
        "outputId": "25606c9a-75d0-46b3-fc07-6b9746dfcabe"
      },
      "source": [
        "len(toplossimg)\r\n"
      ],
      "execution_count": null,
      "outputs": [
        {
          "output_type": "execute_result",
          "data": {
            "text/plain": [
              "109"
            ]
          },
          "metadata": {
            "tags": []
          },
          "execution_count": 87
        }
      ]
    },
    {
      "cell_type": "code",
      "metadata": {
        "id": "ByG6EEflheDx"
      },
      "source": [
        "learn.pred??"
      ],
      "execution_count": null,
      "outputs": []
    },
    {
      "cell_type": "code",
      "metadata": {
        "colab": {
          "base_uri": "https://localhost:8080/"
        },
        "id": "n9mudMxItJPd",
        "outputId": "5d064859-037b-4677-bb4d-7450150a221f"
      },
      "source": [
        "toplossimg[:5]"
      ],
      "execution_count": null,
      "outputs": [
        {
          "output_type": "execute_result",
          "data": {
            "text/plain": [
              "[Path('/dev/shm/casava/train_images/CBB/1119847734.jpg'),\n",
              " Path('/dev/shm/casava/train_images/CBB/2044199243.jpg'),\n",
              " Path('/dev/shm/casava/train_images/CBB/2243019094.jpg'),\n",
              " Path('/dev/shm/casava/train_images/CBB/2519536403.jpg'),\n",
              " Path('/dev/shm/casava/train_images/CBB/2641912037.jpg')]"
            ]
          },
          "metadata": {
            "tags": []
          },
          "execution_count": 91
        }
      ]
    },
    {
      "cell_type": "code",
      "metadata": {
        "colab": {
          "base_uri": "https://localhost:8080/",
          "height": 17
        },
        "id": "9awC1uTatPLp",
        "outputId": "8965257d-f2c6-4a9d-d13e-f35ca0f58213"
      },
      "source": [
        "learn=learn.load(mdl_path/\"casava_resnet18\")\r\n",
        "if isinstance(interp, ClassificationInterpretation):\r\n",
        "  del interp\r\n",
        "interp = ClassificationInterpretation.from_learner(learn)"
      ],
      "execution_count": null,
      "outputs": [
        {
          "output_type": "display_data",
          "data": {
            "text/html": [
              ""
            ],
            "text/plain": [
              "<IPython.core.display.HTML object>"
            ]
          },
          "metadata": {
            "tags": []
          }
        }
      ]
    },
    {
      "cell_type": "code",
      "metadata": {
        "colab": {
          "base_uri": "https://localhost:8080/"
        },
        "id": "Vm89kyqi0lPv",
        "outputId": "bb362345-9965-46e3-be73-f65b451f90e8"
      },
      "source": [
        "print(\"casava_resnet18\",interp.print_classification_report())"
      ],
      "execution_count": null,
      "outputs": [
        {
          "output_type": "stream",
          "text": [
            "              precision    recall  f1-score   support\n",
            "\n",
            "         CBB       0.53      0.73      0.61       218\n",
            "        CBSD       0.85      0.72      0.78       454\n",
            "         CGM       0.91      0.55      0.68       497\n",
            "         CMD       0.92      0.97      0.94      2586\n",
            "      Healty       0.67      0.72      0.69       524\n",
            "\n",
            "    accuracy                           0.85      4279\n",
            "   macro avg       0.78      0.74      0.74      4279\n",
            "weighted avg       0.86      0.85      0.85      4279\n",
            "\n",
            "casava_resnet18 None\n"
          ],
          "name": "stdout"
        }
      ]
    },
    {
      "cell_type": "code",
      "metadata": {
        "colab": {
          "base_uri": "https://localhost:8080/",
          "height": 17
        },
        "id": "_UomHhuV4zV-",
        "outputId": "72a0246d-3888-4c8e-a125-cc81ef119c60"
      },
      "source": [
        "learn=learn.load(mdl_path/\"casava_resnet18\")\r\n",
        "if isinstance(interp, ClassificationInterpretation):\r\n",
        "  del interp\r\n",
        "interp = ClassificationInterpretation.from_learner(learn)"
      ],
      "execution_count": null,
      "outputs": [
        {
          "output_type": "display_data",
          "data": {
            "text/html": [
              ""
            ],
            "text/plain": [
              "<IPython.core.display.HTML object>"
            ]
          },
          "metadata": {
            "tags": []
          }
        }
      ]
    },
    {
      "cell_type": "code",
      "metadata": {
        "colab": {
          "base_uri": "https://localhost:8080/"
        },
        "id": "IAFQnYa47SCj",
        "outputId": "3c5034c3-c839-4b07-c686-74a679323d10"
      },
      "source": [
        "print(\"casava_resnet18\",interp.print_classification_report())"
      ],
      "execution_count": null,
      "outputs": [
        {
          "output_type": "stream",
          "text": [
            "              precision    recall  f1-score   support\n",
            "\n",
            "         CBB       0.62      0.71      0.66       218\n",
            "        CBSD       0.87      0.71      0.78       454\n",
            "         CGM       0.92      0.51      0.65       497\n",
            "         CMD       0.91      0.99      0.94      2586\n",
            "      Healty       0.68      0.74      0.71       524\n",
            "\n",
            "    accuracy                           0.86      4279\n",
            "   macro avg       0.80      0.73      0.75      4279\n",
            "weighted avg       0.86      0.86      0.85      4279\n",
            "\n",
            "casava_resnet18 None\n"
          ],
          "name": "stdout"
        }
      ]
    },
    {
      "cell_type": "code",
      "metadata": {
        "colab": {
          "base_uri": "https://localhost:8080/",
          "height": 238
        },
        "id": "AdpA56v_7Sdb",
        "outputId": "d6852017-9ee1-4e1e-c81a-ec29ffb6b1cf"
      },
      "source": [
        "learn=learn.load(mdl_path/\"casava_resnet18.1\")\r\n",
        "if isinstance(interp, ClassificationInterpretation):\r\n",
        "  del interp\r\n",
        "interp = ClassificationInterpretation.from_learner(learn)\r\n",
        "print(\"casava_resnet18\",interp.print_classification_report())"
      ],
      "execution_count": null,
      "outputs": [
        {
          "output_type": "display_data",
          "data": {
            "text/html": [
              ""
            ],
            "text/plain": [
              "<IPython.core.display.HTML object>"
            ]
          },
          "metadata": {
            "tags": []
          }
        },
        {
          "output_type": "stream",
          "text": [
            "              precision    recall  f1-score   support\n",
            "\n",
            "         CBB       0.66      0.67      0.67       218\n",
            "        CBSD       0.87      0.74      0.80       454\n",
            "         CGM       0.91      0.54      0.68       497\n",
            "         CMD       0.92      0.98      0.95      2586\n",
            "      Healty       0.66      0.76      0.71       524\n",
            "\n",
            "    accuracy                           0.86      4279\n",
            "   macro avg       0.80      0.74      0.76      4279\n",
            "weighted avg       0.87      0.86      0.86      4279\n",
            "\n",
            "casava_resnet18 None\n"
          ],
          "name": "stdout"
        }
      ]
    },
    {
      "cell_type": "code",
      "metadata": {
        "colab": {
          "base_uri": "https://localhost:8080/",
          "height": 238
        },
        "id": "14KbPCPZEyw3",
        "outputId": "b891fc1a-34b1-49e8-b789-13701b3bdce1"
      },
      "source": [
        "learn=learn.load(mdl_path/\"casava_resnet18.1\")\r\n",
        "if isinstance(interp, ClassificationInterpretation):\r\n",
        "  del interp\r\n",
        "interp = ClassificationInterpretation.from_learner(learn)\r\n",
        "print(\"casava_resnet18\",interp.print_classification_report())"
      ],
      "execution_count": null,
      "outputs": [
        {
          "output_type": "display_data",
          "data": {
            "text/html": [
              ""
            ],
            "text/plain": [
              "<IPython.core.display.HTML object>"
            ]
          },
          "metadata": {
            "tags": []
          }
        },
        {
          "output_type": "stream",
          "text": [
            "              precision    recall  f1-score   support\n",
            "\n",
            "         CBB       0.66      0.67      0.67       218\n",
            "        CBSD       0.87      0.74      0.80       454\n",
            "         CGM       0.91      0.54      0.68       497\n",
            "         CMD       0.92      0.98      0.95      2586\n",
            "      Healty       0.66      0.76      0.71       524\n",
            "\n",
            "    accuracy                           0.86      4279\n",
            "   macro avg       0.80      0.74      0.76      4279\n",
            "weighted avg       0.87      0.86      0.86      4279\n",
            "\n",
            "casava_resnet18 None\n"
          ],
          "name": "stdout"
        }
      ]
    },
    {
      "cell_type": "code",
      "metadata": {
        "colab": {
          "base_uri": "https://localhost:8080/"
        },
        "id": "IhAEUBeCVIdR",
        "outputId": "7436fc70-ba08-4360-87b1-c29f68ee1bc9"
      },
      "source": [
        "!pip install timm"
      ],
      "execution_count": null,
      "outputs": [
        {
          "output_type": "stream",
          "text": [
            "Collecting timm\n",
            "\u001b[?25l  Downloading https://files.pythonhosted.org/packages/22/c6/ba02d533cec7329323c7d7a317ab49f673846ecef202d4cc40988b6b7786/timm-0.3.4-py3-none-any.whl (244kB)\n",
            "\r\u001b[K     |█▍                              | 10kB 14.4MB/s eta 0:00:01\r\u001b[K     |██▊                             | 20kB 18.1MB/s eta 0:00:01\r\u001b[K     |████                            | 30kB 11.7MB/s eta 0:00:01\r\u001b[K     |█████▍                          | 40kB 9.0MB/s eta 0:00:01\r\u001b[K     |██████▊                         | 51kB 7.3MB/s eta 0:00:01\r\u001b[K     |████████                        | 61kB 7.0MB/s eta 0:00:01\r\u001b[K     |█████████▍                      | 71kB 7.7MB/s eta 0:00:01\r\u001b[K     |██████████▊                     | 81kB 8.2MB/s eta 0:00:01\r\u001b[K     |████████████                    | 92kB 7.6MB/s eta 0:00:01\r\u001b[K     |█████████████▍                  | 102kB 7.8MB/s eta 0:00:01\r\u001b[K     |██████████████▊                 | 112kB 7.8MB/s eta 0:00:01\r\u001b[K     |████████████████                | 122kB 7.8MB/s eta 0:00:01\r\u001b[K     |█████████████████▍              | 133kB 7.8MB/s eta 0:00:01\r\u001b[K     |██████████████████▊             | 143kB 7.8MB/s eta 0:00:01\r\u001b[K     |████████████████████            | 153kB 7.8MB/s eta 0:00:01\r\u001b[K     |█████████████████████▍          | 163kB 7.8MB/s eta 0:00:01\r\u001b[K     |██████████████████████▊         | 174kB 7.8MB/s eta 0:00:01\r\u001b[K     |████████████████████████        | 184kB 7.8MB/s eta 0:00:01\r\u001b[K     |█████████████████████████▍      | 194kB 7.8MB/s eta 0:00:01\r\u001b[K     |██████████████████████████▊     | 204kB 7.8MB/s eta 0:00:01\r\u001b[K     |████████████████████████████    | 215kB 7.8MB/s eta 0:00:01\r\u001b[K     |█████████████████████████████▍  | 225kB 7.8MB/s eta 0:00:01\r\u001b[K     |██████████████████████████████▉ | 235kB 7.8MB/s eta 0:00:01\r\u001b[K     |████████████████████████████████| 245kB 7.8MB/s \n",
            "\u001b[?25hRequirement already satisfied: torchvision in /usr/local/lib/python3.6/dist-packages (from timm) (0.8.1+cu101)\n",
            "Requirement already satisfied: torch>=1.4 in /usr/local/lib/python3.6/dist-packages (from timm) (1.7.0+cu101)\n",
            "Requirement already satisfied: numpy in /usr/local/lib/python3.6/dist-packages (from torchvision->timm) (1.19.5)\n",
            "Requirement already satisfied: pillow>=4.1.1 in /usr/local/lib/python3.6/dist-packages (from torchvision->timm) (7.0.0)\n",
            "Requirement already satisfied: typing-extensions in /usr/local/lib/python3.6/dist-packages (from torch>=1.4->timm) (3.7.4.3)\n",
            "Requirement already satisfied: dataclasses in /usr/local/lib/python3.6/dist-packages (from torch>=1.4->timm) (0.8)\n",
            "Requirement already satisfied: future in /usr/local/lib/python3.6/dist-packages (from torch>=1.4->timm) (0.16.0)\n",
            "Installing collected packages: timm\n",
            "Successfully installed timm-0.3.4\n"
          ],
          "name": "stdout"
        }
      ]
    },
    {
      "cell_type": "code",
      "metadata": {
        "id": "sC2QrTZZVOf8"
      },
      "source": [
        "import timm"
      ],
      "execution_count": null,
      "outputs": []
    },
    {
      "cell_type": "code",
      "metadata": {
        "colab": {
          "base_uri": "https://localhost:8080/"
        },
        "id": "UXYaH2H3VSU-",
        "outputId": "91746713-beb9-4627-c04a-28d5cd29647b"
      },
      "source": [
        "model = timm.create_model('resnext50_32x4d', pretrained=true)"
      ],
      "execution_count": null,
      "outputs": [
        {
          "output_type": "stream",
          "text": [
            "Downloading: \"https://github.com/rwightman/pytorch-image-models/releases/download/v0.1-weights/resnext50_32x4d_ra-d733960d.pth\" to /root/.cache/torch/hub/checkpoints/resnext50_32x4d_ra-d733960d.pth\n"
          ],
          "name": "stderr"
        }
      ]
    },
    {
      "cell_type": "code",
      "metadata": {
        "id": "Hm13-t7QVWRw"
      },
      "source": [
        "model.fc=nn.Linear(2048,5)"
      ],
      "execution_count": null,
      "outputs": []
    },
    {
      "cell_type": "code",
      "metadata": {
        "id": "_i3c4DZmVaDc"
      },
      "source": [
        "learn = Learner(dls,\r\n",
        "                    model,\r\n",
        "                    metrics=error_rate)"
      ],
      "execution_count": null,
      "outputs": []
    },
    {
      "cell_type": "code",
      "metadata": {
        "colab": {
          "base_uri": "https://localhost:8080/",
          "height": 292
        },
        "id": "f-loPlsQUubb",
        "outputId": "d1bdf8a3-5582-453d-af8b-216df5a1daaa"
      },
      "source": [
        "learn=learn.load(mdl_path/\"casava_resnext50_32x4d\")\r\n",
        "if isinstance(interp, ClassificationInterpretation):\r\n",
        "  del interp\r\n",
        "interp = ClassificationInterpretation.from_learner(learn)\r\n",
        "print(\"casava_resnet18\",interp.print_classification_report())"
      ],
      "execution_count": null,
      "outputs": [
        {
          "output_type": "display_data",
          "data": {
            "text/html": [
              ""
            ],
            "text/plain": [
              "<IPython.core.display.HTML object>"
            ]
          },
          "metadata": {
            "tags": []
          }
        },
        {
          "output_type": "stream",
          "text": [
            "              precision    recall  f1-score   support\n",
            "\n",
            "         CBB       0.00      0.00      0.00       218\n",
            "        CBSD       0.52      0.03      0.06       454\n",
            "         CGM       0.83      0.01      0.02       497\n",
            "         CMD       0.61      1.00      0.76      2586\n",
            "      Healty       0.70      0.04      0.08       524\n",
            "\n",
            "    accuracy                           0.61      4279\n",
            "   macro avg       0.53      0.22      0.18      4279\n",
            "weighted avg       0.61      0.61      0.48      4279\n",
            "\n",
            "casava_resnet18 None\n"
          ],
          "name": "stdout"
        },
        {
          "output_type": "stream",
          "text": [
            "/usr/local/lib/python3.6/dist-packages/sklearn/metrics/_classification.py:1272: UndefinedMetricWarning: Precision and F-score are ill-defined and being set to 0.0 in labels with no predicted samples. Use `zero_division` parameter to control this behavior.\n",
            "  _warn_prf(average, modifier, msg_start, len(result))\n"
          ],
          "name": "stderr"
        }
      ]
    },
    {
      "cell_type": "code",
      "metadata": {
        "colab": {
          "base_uri": "https://localhost:8080/",
          "height": 238
        },
        "id": "6rjS0Gnde6Lt",
        "outputId": "1eb0a9e8-a8b5-476b-c867-36cebabc5db8"
      },
      "source": [
        "learn=learn.load(mdl_path/\"casava_resnext50_32x4d\")\r\n",
        "if isinstance(interp, ClassificationInterpretation):\r\n",
        "  del interp\r\n",
        "interp = ClassificationInterpretation.from_learner(learn)\r\n",
        "print(\"casava_resnet18\",interp.print_classification_report())"
      ],
      "execution_count": null,
      "outputs": [
        {
          "output_type": "display_data",
          "data": {
            "text/html": [
              ""
            ],
            "text/plain": [
              "<IPython.core.display.HTML object>"
            ]
          },
          "metadata": {
            "tags": []
          }
        },
        {
          "output_type": "stream",
          "text": [
            "              precision    recall  f1-score   support\n",
            "\n",
            "         CBB       0.43      0.01      0.03       218\n",
            "        CBSD       0.27      0.26      0.27       454\n",
            "         CGM       0.88      0.01      0.03       497\n",
            "         CMD       0.73      0.47      0.57      2586\n",
            "      Healty       0.19      0.78      0.30       524\n",
            "\n",
            "    accuracy                           0.41      4279\n",
            "   macro avg       0.50      0.31      0.24      4279\n",
            "weighted avg       0.62      0.41      0.42      4279\n",
            "\n",
            "casava_resnet18 None\n"
          ],
          "name": "stdout"
        }
      ]
    },
    {
      "cell_type": "code",
      "metadata": {
        "id": "7BBY1ZxIjuL-"
      },
      "source": [
        "nn.CrossEntropyLoss??"
      ],
      "execution_count": null,
      "outputs": []
    },
    {
      "cell_type": "code",
      "metadata": {
        "id": "rqWLqxMgj92S"
      },
      "source": [
        "loss = nn.CrossEntropyLoss()\r\n",
        "input = torch.randn(3, 5, requires_grad=False)\r\n",
        "target = torch.empty(3, dtype=torch.long).random_(5)\r\n",
        "output = loss(input, target)"
      ],
      "execution_count": null,
      "outputs": []
    },
    {
      "cell_type": "code",
      "metadata": {
        "colab": {
          "base_uri": "https://localhost:8080/"
        },
        "id": "B-SLS5MBkfnN",
        "outputId": "88ee3a9e-4b6d-4a86-b3a8-412c40200a45"
      },
      "source": [
        "output"
      ],
      "execution_count": null,
      "outputs": [
        {
          "output_type": "execute_result",
          "data": {
            "text/plain": [
              "tensor(1.4627)"
            ]
          },
          "metadata": {
            "tags": []
          },
          "execution_count": 117
        }
      ]
    },
    {
      "cell_type": "code",
      "metadata": {
        "colab": {
          "base_uri": "https://localhost:8080/"
        },
        "id": "ZKDDbNj3kiAq",
        "outputId": "2e5cb906-bdba-4080-87d7-c784d149206f"
      },
      "source": [
        "input"
      ],
      "execution_count": null,
      "outputs": [
        {
          "output_type": "execute_result",
          "data": {
            "text/plain": [
              "tensor([[-2.8521, -1.2051,  1.6213,  1.5941, -0.4810],\n",
              "        [-0.6521,  0.3849, -0.5365,  0.3320, -0.3207],\n",
              "        [ 0.5116,  0.7983, -0.1532, -0.1646,  0.2479]])"
            ]
          },
          "metadata": {
            "tags": []
          },
          "execution_count": 118
        }
      ]
    },
    {
      "cell_type": "code",
      "metadata": {
        "colab": {
          "base_uri": "https://localhost:8080/"
        },
        "id": "qyqznZ45kujI",
        "outputId": "f3437b4d-198b-42e5-d0ba-c7ebe85c6f94"
      },
      "source": [
        "target"
      ],
      "execution_count": null,
      "outputs": [
        {
          "output_type": "execute_result",
          "data": {
            "text/plain": [
              "tensor([2, 0, 0])"
            ]
          },
          "metadata": {
            "tags": []
          },
          "execution_count": 119
        }
      ]
    },
    {
      "cell_type": "code",
      "metadata": {
        "id": "KCbKoS3bkzk5"
      },
      "source": [
        "learn.freeze?"
      ],
      "execution_count": null,
      "outputs": []
    },
    {
      "cell_type": "code",
      "metadata": {
        "id": "VrEliCLOyHvQ"
      },
      "source": [
        ""
      ],
      "execution_count": null,
      "outputs": []
    }
  ]
}