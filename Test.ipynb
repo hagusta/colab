{
  "nbformat": 4,
  "nbformat_minor": 0,
  "metadata": {
    "colab": {
      "name": "Test.ipynb",
      "provenance": [],
      "collapsed_sections": [],
      "authorship_tag": "ABX9TyMBTlsLmiKytaU/mL1YBrAv",
      "include_colab_link": true
    },
    "kernelspec": {
      "name": "python3",
      "display_name": "Python 3"
    }
  },
  "cells": [
    {
      "cell_type": "markdown",
      "metadata": {
        "id": "view-in-github",
        "colab_type": "text"
      },
      "source": [
        "<a href=\"https://colab.research.google.com/github/hagusta/colab/blob/master/Test.ipynb\" target=\"_parent\"><img src=\"https://colab.research.google.com/assets/colab-badge.svg\" alt=\"Open In Colab\"/></a>"
      ]
    },
    {
      "cell_type": "code",
      "metadata": {
        "colab": {
          "base_uri": "https://localhost:8080/"
        },
        "id": "CnyRh5BXbrln",
        "outputId": "735ac0aa-4497-4b88-fc36-804b18d344c6"
      },
      "source": [
        "!pip install -Uqq fastai\r\n",
        "!pip install -Uqq fastbook\r\n",
        "import fastai\r\n",
        "import fastbook\r\n",
        "import torch\r\n",
        "\r\n",
        "fastbook.setup_book()"
      ],
      "execution_count": null,
      "outputs": [
        {
          "output_type": "stream",
          "text": [
            "\u001b[K     |████████████████████████████████| 194kB 5.7MB/s \n",
            "\u001b[K     |████████████████████████████████| 61kB 5.4MB/s \n",
            "\u001b[K     |████████████████████████████████| 727kB 4.3MB/s \n",
            "\u001b[K     |████████████████████████████████| 1.2MB 19.6MB/s \n",
            "\u001b[K     |████████████████████████████████| 51kB 5.6MB/s \n",
            "\u001b[?25hMounted at /content/gdrive\n"
          ],
          "name": "stdout"
        }
      ]
    },
    {
      "cell_type": "code",
      "metadata": {
        "id": "ZEKYCCItb9AX"
      },
      "source": [
        "from fastai.vision.all import *"
      ],
      "execution_count": null,
      "outputs": []
    },
    {
      "cell_type": "code",
      "metadata": {
        "colab": {
          "base_uri": "https://localhost:8080/",
          "height": 340
        },
        "id": "D-Ni4Wj-cAaV",
        "outputId": "69c443fd-045f-46ed-c188-bf397d5ce3ef"
      },
      "source": [
        "!pip install timm"
      ],
      "execution_count": null,
      "outputs": [
        {
          "output_type": "stream",
          "text": [
            "Collecting timm\n",
            "\u001b[?25l  Downloading https://files.pythonhosted.org/packages/22/c6/ba02d533cec7329323c7d7a317ab49f673846ecef202d4cc40988b6b7786/timm-0.3.4-py3-none-any.whl (244kB)\n",
            "\r\u001b[K     |█▍                              | 10kB 13.9MB/s eta 0:00:01\r\u001b[K     |██▊                             | 20kB 19.1MB/s eta 0:00:01\r\u001b[K     |████                            | 30kB 9.4MB/s eta 0:00:01\r\u001b[K     |█████▍                          | 40kB 7.3MB/s eta 0:00:01\r\u001b[K     |██████▊                         | 51kB 4.3MB/s eta 0:00:01\r\u001b[K     |████████                        | 61kB 4.7MB/s eta 0:00:01\r\u001b[K     |█████████▍                      | 71kB 4.8MB/s eta 0:00:01\r\u001b[K     |██████████▊                     | 81kB 5.3MB/s eta 0:00:01\r\u001b[K     |████████████                    | 92kB 5.2MB/s eta 0:00:01\r\u001b[K     |█████████████▍                  | 102kB 4.2MB/s eta 0:00:01\r\u001b[K     |██████████████▊                 | 112kB 4.2MB/s eta 0:00:01\r\u001b[K     |████████████████                | 122kB 4.2MB/s eta 0:00:01\r\u001b[K     |█████████████████▍              | 133kB 4.2MB/s eta 0:00:01\r\u001b[K     |██████████████████▊             | 143kB 4.2MB/s eta 0:00:01\r\u001b[K     |████████████████████            | 153kB 4.2MB/s eta 0:00:01\r\u001b[K     |█████████████████████▍          | 163kB 4.2MB/s eta 0:00:01\r\u001b[K     |██████████████████████▊         | 174kB 4.2MB/s eta 0:00:01\r\u001b[K     |████████████████████████        | 184kB 4.2MB/s eta 0:00:01\r\u001b[K     |█████████████████████████▍      | 194kB 4.2MB/s eta 0:00:01\r\u001b[K     |██████████████████████████▊     | 204kB 4.2MB/s eta 0:00:01\r\u001b[K     |████████████████████████████    | 215kB 4.2MB/s eta 0:00:01\r\u001b[K     |█████████████████████████████▍  | 225kB 4.2MB/s eta 0:00:01\r\u001b[K     |██████████████████████████████▉ | 235kB 4.2MB/s eta 0:00:01\r\u001b[K     |████████████████████████████████| 245kB 4.2MB/s \n",
            "\u001b[?25hCollecting torchvision\n",
            "  Using cached https://files.pythonhosted.org/packages/19/f1/d1d9b2be9f50e840accfa180ec2fb759dd2504f2b3a12a232398d5fa00ae/torchvision-0.8.2-cp36-cp36m-manylinux1_x86_64.whl\n",
            "Requirement already satisfied: torch>=1.4 in /usr/local/lib/python3.6/dist-packages (from timm) (1.7.0+cu101)\n",
            "Requirement already satisfied: pillow>=4.1.1 in /usr/local/lib/python3.6/dist-packages (from torchvision->timm) (7.0.0)\n",
            "Requirement already satisfied: numpy in /usr/local/lib/python3.6/dist-packages (from torchvision->timm) (1.19.5)\n",
            "Requirement already satisfied: future in /usr/local/lib/python3.6/dist-packages (from torch>=1.4->timm) (0.16.0)\n",
            "Requirement already satisfied: dataclasses in /usr/local/lib/python3.6/dist-packages (from torch>=1.4->timm) (0.8)\n",
            "Requirement already satisfied: typing-extensions in /usr/local/lib/python3.6/dist-packages (from torch>=1.4->timm) (3.7.4.3)\n",
            "\u001b[31mERROR: torchvision 0.8.2 has requirement torch==1.7.1, but you'll have torch 1.7.0+cu101 which is incompatible.\u001b[0m\n",
            "Installing collected packages: torchvision, timm\n",
            "Successfully installed timm-0.3.4 torchvision-0.8.2\n"
          ],
          "name": "stdout"
        },
        {
          "output_type": "display_data",
          "data": {
            "application/vnd.colab-display-data+json": {
              "pip_warning": {
                "packages": [
                  "torchvision"
                ]
              }
            }
          },
          "metadata": {
            "tags": []
          }
        }
      ]
    },
    {
      "cell_type": "markdown",
      "metadata": {
        "id": "q3ZsTlwAvr3L"
      },
      "source": [
        "# resnext50_32x4d"
      ]
    },
    {
      "cell_type": "code",
      "metadata": {
        "id": "RDpZjtU7cP8j"
      },
      "source": [
        "import timm"
      ],
      "execution_count": null,
      "outputs": []
    },
    {
      "cell_type": "code",
      "metadata": {
        "id": "b4TGlpq_cojJ"
      },
      "source": [
        "model = timm.create_model('resnext50_32x4d', pretrained=true)"
      ],
      "execution_count": null,
      "outputs": []
    },
    {
      "cell_type": "code",
      "metadata": {
        "id": "2Z72EEt8d98y"
      },
      "source": [
        "model.fc=nn.Linear(2048,5)"
      ],
      "execution_count": null,
      "outputs": []
    },
    {
      "cell_type": "code",
      "metadata": {
        "id": "d7aIWYb_e_yF"
      },
      "source": [
        "!tar xzf gdrive/MyDrive/casava_data/casava.tar.gz --directory /dev/shm"
      ],
      "execution_count": null,
      "outputs": []
    },
    {
      "cell_type": "code",
      "metadata": {
        "id": "UlR-37BGfaxt"
      },
      "source": [
        "import json\r\n",
        "df=pd.read_csv('/dev/shm/casava/train.csv')\r\n",
        "f=open('/dev/shm/casava/label_num_to_disease_map.json')\r\n",
        "#label_name=dict(json.load(f))\r\n",
        "label_name_dict=dict({'0':'CBB',\r\n",
        "                 '1':'CBSD',\r\n",
        "                 '2':'CGM',\r\n",
        "                 '3':'CMD',\r\n",
        "                 '4':'Healty'})\r\n",
        "imgs=df.image_id.to_list()\r\n",
        "lbl=df.label.to_list()\r\n",
        "labels=[ label_name_dict[str(i)] for i in lbl]\r\n",
        "label_dict=dict(zip(imgs,labels))"
      ],
      "execution_count": null,
      "outputs": []
    },
    {
      "cell_type": "code",
      "metadata": {
        "id": "53dK2oRnfe7q"
      },
      "source": [
        "def get_label(o): return label_dict[o.name]\r\n",
        "casava=DataBlock(\r\n",
        "    blocks=(ImageBlock, CategoryBlock), \r\n",
        "    get_items=get_image_files, \r\n",
        "    splitter=RandomSplitter(valid_pct=0.2, seed=42),\r\n",
        "    #get_y=lambda p: label_dict[p.name],\r\n",
        "    #get_y=parent_label,\r\n",
        "    get_y=get_label,\r\n",
        "    #item_tfms=Resize(512),\r\n",
        "    batch_tfms=[*aug_transforms(size=224,mult=2),Normalize.from_stats(*imagenet_stats)]\r\n",
        "    )"
      ],
      "execution_count": null,
      "outputs": []
    },
    {
      "cell_type": "code",
      "metadata": {
        "id": "lqQS4I4ffpa_"
      },
      "source": [
        "path=Path('/dev/shm/casava/train_images')\r\n",
        "dls = casava.dataloaders(path,bs=8)"
      ],
      "execution_count": null,
      "outputs": []
    },
    {
      "cell_type": "code",
      "metadata": {
        "colab": {
          "base_uri": "https://localhost:8080/"
        },
        "id": "qIYEf0gCfy4j",
        "outputId": "84919e8c-33c6-436e-f9e9-a6ce6285acda"
      },
      "source": [
        "learn = Learner(dls,\r\n",
        "                    model,\r\n",
        "                    metrics=error_rate).to_fp16()"
      ],
      "execution_count": null,
      "outputs": [
        {
          "output_type": "stream",
          "text": [
            "/usr/local/lib/python3.6/dist-packages/torch/cuda/amp/autocast_mode.py:114: UserWarning: torch.cuda.amp.autocast only affects CUDA ops, but CUDA is not available.  Disabling.\n",
            "  warnings.warn(\"torch.cuda.amp.autocast only affects CUDA ops, but CUDA is not available.  Disabling.\")\n"
          ],
          "name": "stderr"
        }
      ]
    },
    {
      "cell_type": "code",
      "metadata": {
        "colab": {
          "base_uri": "https://localhost:8080/",
          "height": 130
        },
        "id": "KpgJCfhqgET9",
        "outputId": "c52193e7-286f-494b-8abe-484c28451838"
      },
      "source": [
        "learn.freeze()\r\n",
        "learn.fit_one_cycle(1)"
      ],
      "execution_count": null,
      "outputs": [
        {
          "output_type": "stream",
          "text": [
            "/usr/local/lib/python3.6/dist-packages/torch/cuda/amp/grad_scaler.py:115: UserWarning: torch.cuda.amp.GradScaler is enabled, but CUDA is not available.  Disabling.\n",
            "  warnings.warn(\"torch.cuda.amp.GradScaler is enabled, but CUDA is not available.  Disabling.\")\n"
          ],
          "name": "stderr"
        },
        {
          "output_type": "display_data",
          "data": {
            "text/html": [
              "\n",
              "    <div>\n",
              "        <style>\n",
              "            /* Turns off some styling */\n",
              "            progress {\n",
              "                /* gets rid of default border in Firefox and Opera. */\n",
              "                border: none;\n",
              "                /* Needs to be in here for Safari polyfill so background images work as expected. */\n",
              "                background-size: auto;\n",
              "            }\n",
              "            .progress-bar-interrupted, .progress-bar-interrupted::-webkit-progress-bar {\n",
              "                background: #F44336;\n",
              "            }\n",
              "        </style>\n",
              "      <progress value='0' class='' max='1' style='width:300px; height:20px; vertical-align: middle;'></progress>\n",
              "      0.00% [0/1 00:00<00:00]\n",
              "    </div>\n",
              "    \n",
              "<table border=\"1\" class=\"dataframe\">\n",
              "  <thead>\n",
              "    <tr style=\"text-align: left;\">\n",
              "      <th>epoch</th>\n",
              "      <th>train_loss</th>\n",
              "      <th>valid_loss</th>\n",
              "      <th>error_rate</th>\n",
              "      <th>time</th>\n",
              "    </tr>\n",
              "  </thead>\n",
              "  <tbody>\n",
              "  </tbody>\n",
              "</table><p>\n",
              "\n",
              "    <div>\n",
              "        <style>\n",
              "            /* Turns off some styling */\n",
              "            progress {\n",
              "                /* gets rid of default border in Firefox and Opera. */\n",
              "                border: none;\n",
              "                /* Needs to be in here for Safari polyfill so background images work as expected. */\n",
              "                background-size: auto;\n",
              "            }\n",
              "            .progress-bar-interrupted, .progress-bar-interrupted::-webkit-progress-bar {\n",
              "                background: #F44336;\n",
              "            }\n",
              "        </style>\n",
              "      <progress value='54' class='' max='2139' style='width:300px; height:20px; vertical-align: middle;'></progress>\n",
              "      2.52% [54/2139 07:14<4:39:22 1.1520]\n",
              "    </div>\n",
              "    "
            ],
            "text/plain": [
              "<IPython.core.display.HTML object>"
            ]
          },
          "metadata": {
            "tags": []
          }
        }
      ]
    },
    {
      "cell_type": "code",
      "metadata": {
        "id": "2YZcUFGFgV2M"
      },
      "source": [
        ""
      ],
      "execution_count": null,
      "outputs": []
    },
    {
      "cell_type": "markdown",
      "metadata": {
        "id": "Fkm0OO-mv475"
      },
      "source": [
        "# sandbox"
      ]
    },
    {
      "cell_type": "code",
      "metadata": {
        "colab": {
          "base_uri": "https://localhost:8080/"
        },
        "id": "_RzT8oR52b9t",
        "outputId": "50456900-2ecd-40c5-b86d-5cf1af3756a4"
      },
      "source": [
        "!pip install -Uqq pretrainedmodels"
      ],
      "execution_count": null,
      "outputs": [
        {
          "output_type": "stream",
          "text": [
            "\u001b[?25l\r\u001b[K     |█████▋                          | 10kB 16.2MB/s eta 0:00:01\r\u001b[K     |███████████▏                    | 20kB 9.4MB/s eta 0:00:01\r\u001b[K     |████████████████▊               | 30kB 6.7MB/s eta 0:00:01\r\u001b[K     |██████████████████████▎         | 40kB 7.2MB/s eta 0:00:01\r\u001b[K     |███████████████████████████▉    | 51kB 4.4MB/s eta 0:00:01\r\u001b[K     |████████████████████████████████| 61kB 3.2MB/s \n",
            "\u001b[?25h  Building wheel for pretrainedmodels (setup.py) ... \u001b[?25l\u001b[?25hdone\n"
          ],
          "name": "stdout"
        }
      ]
    },
    {
      "cell_type": "code",
      "metadata": {
        "id": "WyPRtYFVv-Cd"
      },
      "source": [
        "from torchvision.models import *\r\n",
        "import pretrainedmodels\r\n",
        "\r\n",
        "from fastai.vision import *\r\n",
        "from fastai.vision.models import *\r\n",
        "from fastai.vision.learner import model_meta\r\n",
        "\r\n",
        "#from utils import *\r\n",
        "import sys\r\n"
      ],
      "execution_count": null,
      "outputs": []
    },
    {
      "cell_type": "code",
      "metadata": {
        "id": "f2I2j8il7wWS"
      },
      "source": [
        "def resnext50_32x4d(pretrained=False):\r\n",
        "    pretrained = 'imagenet' if pretrained else None\r\n",
        "    model = timm.create_model('resnext50_32x4d', pretrained=pretrained)\r\n",
        "    all_layers = list(model.children())\r\n",
        "    return nn.Sequential(all_layers[0], *all_layers[1:])\r\n"
      ],
      "execution_count": null,
      "outputs": []
    },
    {
      "cell_type": "code",
      "metadata": {
        "colab": {
          "base_uri": "https://localhost:8080/",
          "height": 17
        },
        "id": "tjjfw5nj9yJd",
        "outputId": "47e247ea-6b5b-4b3d-8198-0edeb4158734"
      },
      "source": [
        "path = untar_data(URLs.MNIST_SAMPLE)\r\n",
        "data = ImageDataLoaders.from_folder(path, ds_tfms=aug_transforms(mult=2.0),\r\n",
        "                                 size=26)"
      ],
      "execution_count": null,
      "outputs": [
        {
          "output_type": "display_data",
          "data": {
            "text/html": [
              ""
            ],
            "text/plain": [
              "<IPython.core.display.HTML object>"
            ]
          },
          "metadata": {
            "tags": []
          }
        }
      ]
    },
    {
      "cell_type": "code",
      "metadata": {
        "id": "hM7LmTQoIrmU"
      },
      "source": [
        "learn = cnn_learner(data, partial(resnext50_32x4d,pretrained=True), metrics=accuracy)\r\n",
        "#"
      ],
      "execution_count": null,
      "outputs": []
    },
    {
      "cell_type": "code",
      "metadata": {
        "colab": {
          "base_uri": "https://localhost:8080/",
          "height": 80
        },
        "id": "dEamtJN-EPdG",
        "outputId": "1a187b77-342a-4086-f1a6-bda41bac9a0d"
      },
      "source": [
        "learn.fit_one_cycle(1)"
      ],
      "execution_count": null,
      "outputs": [
        {
          "output_type": "display_data",
          "data": {
            "text/html": [
              "<table border=\"1\" class=\"dataframe\">\n",
              "  <thead>\n",
              "    <tr style=\"text-align: left;\">\n",
              "      <th>epoch</th>\n",
              "      <th>train_loss</th>\n",
              "      <th>valid_loss</th>\n",
              "      <th>accuracy</th>\n",
              "      <th>time</th>\n",
              "    </tr>\n",
              "  </thead>\n",
              "  <tbody>\n",
              "    <tr>\n",
              "      <td>0</td>\n",
              "      <td>0.401643</td>\n",
              "      <td>0.297434</td>\n",
              "      <td>0.895976</td>\n",
              "      <td>06:36</td>\n",
              "    </tr>\n",
              "  </tbody>\n",
              "</table>"
            ],
            "text/plain": [
              "<IPython.core.display.HTML object>"
            ]
          },
          "metadata": {
            "tags": []
          }
        }
      ]
    },
    {
      "cell_type": "code",
      "metadata": {
        "id": "7FPG1hbqIDAQ"
      },
      "source": [
        "learn2 = cnn_learner(data,models.resnet18, metrics=[accuracy,error_rate])"
      ],
      "execution_count": null,
      "outputs": []
    },
    {
      "cell_type": "code",
      "metadata": {
        "colab": {
          "base_uri": "https://localhost:8080/"
        },
        "id": "I_7h0EYoRYc9",
        "outputId": "e6f5585c-9f60-4d75-c73b-60ca9ff2ac36"
      },
      "source": [
        "learn = Learner(data,\r\n",
        "                    model,\r\n",
        "                    metrics=error_rate).to_fp16()"
      ],
      "execution_count": null,
      "outputs": [
        {
          "output_type": "stream",
          "text": [
            "/usr/local/lib/python3.6/dist-packages/torch/cuda/amp/autocast_mode.py:114: UserWarning: torch.cuda.amp.autocast only affects CUDA ops, but CUDA is not available.  Disabling.\n",
            "  warnings.warn(\"torch.cuda.amp.autocast only affects CUDA ops, but CUDA is not available.  Disabling.\")\n"
          ],
          "name": "stderr"
        }
      ]
    },
    {
      "cell_type": "code",
      "metadata": {
        "colab": {
          "base_uri": "https://localhost:8080/"
        },
        "id": "t1n_yR9iRac3",
        "outputId": "43e979dd-1d60-43f6-b34f-bdaa8b3d6ff7"
      },
      "source": [
        "list(learn.model.children())[-1]"
      ],
      "execution_count": null,
      "outputs": [
        {
          "output_type": "execute_result",
          "data": {
            "text/plain": [
              "Linear(in_features=2048, out_features=5, bias=True)"
            ]
          },
          "metadata": {
            "tags": []
          },
          "execution_count": 82
        }
      ]
    },
    {
      "cell_type": "code",
      "metadata": {
        "colab": {
          "base_uri": "https://localhost:8080/",
          "height": 536
        },
        "id": "j_fKVpvsRksY",
        "outputId": "cbf1c3a0-4138-4f70-c72e-dcb784ea8056"
      },
      "source": [
        "data.show_batch()"
      ],
      "execution_count": null,
      "outputs": [
        {
          "output_type": "display_data",
          "data": {
            "image/png": "[encoded data removed]",
            "text/plain": [
              "<Figure size 648x648 with 9 Axes>"
            ]
          },
          "metadata": {
            "tags": [],
            "needs_background": "light"
          }
        }
      ]
    },
    {
      "cell_type": "code",
      "metadata": {
        "id": "4VU5v-_ZTabP"
      },
      "source": [
        "x,y = zip(*data.train_ds)"
      ],
      "execution_count": null,
      "outputs": []
    },
    {
      "cell_type": "code",
      "metadata": {
        "id": "ZCvBK_jZUhhQ"
      },
      "source": [
        "y_labels = list(map(lambda a : a.item() ,y))"
      ],
      "execution_count": null,
      "outputs": []
    },
    {
      "cell_type": "code",
      "metadata": {
        "colab": {
          "base_uri": "https://localhost:8080/"
        },
        "id": "BYj3QcLpUxd5",
        "outputId": "3f4affe4-1125-40a6-f9ce-f4c7a65ac235"
      },
      "source": [
        "y_labels[:10]"
      ],
      "execution_count": null,
      "outputs": [
        {
          "output_type": "execute_result",
          "data": {
            "text/plain": [
              "[0, 0, 0, 0, 0, 0, 0, 0, 0, 0]"
            ]
          },
          "metadata": {
            "tags": []
          },
          "execution_count": 94
        }
      ]
    },
    {
      "cell_type": "code",
      "metadata": {
        "id": "gaoaoqYnU07L"
      },
      "source": [
        "import pandas as pd"
      ],
      "execution_count": null,
      "outputs": []
    },
    {
      "cell_type": "code",
      "metadata": {
        "id": "nZ6flBa0VDAu"
      },
      "source": [
        "tbl=pd.DataFrame(dict({'labels': y_labels}))"
      ],
      "execution_count": null,
      "outputs": []
    },
    {
      "cell_type": "code",
      "metadata": {
        "colab": {
          "base_uri": "https://localhost:8080/"
        },
        "id": "WK89nprkVKyn",
        "outputId": "965cc323-f81d-4c5a-c1a3-bd3409efe753"
      },
      "source": [
        "tbl.labels.value_counts()"
      ],
      "execution_count": null,
      "outputs": [
        {
          "output_type": "execute_result",
          "data": {
            "text/plain": [
              "1    6265\n",
              "0    6131\n",
              "Name: labels, dtype: int64"
            ]
          },
          "metadata": {
            "tags": []
          },
          "execution_count": 111
        }
      ]
    },
    {
      "cell_type": "code",
      "metadata": {
        "id": "NgjvrREpVNDo"
      },
      "source": [
        ""
      ],
      "execution_count": null,
      "outputs": []
    }
  ]
}